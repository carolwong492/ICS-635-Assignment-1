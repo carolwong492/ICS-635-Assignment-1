{
 "cells": [
  {
   "cell_type": "code",
   "execution_count": 1,
   "id": "990da4b9",
   "metadata": {},
   "outputs": [],
   "source": [
    "from sklearn import preprocessing\n",
    "from sklearn.neighbors import KNeighborsClassifier\n",
    "from sklearn.tree import DecisionTreeClassifier\n",
    "from sklearn.ensemble import RandomForestClassifier\n",
    "from sklearn.datasets import load_breast_cancer \n",
    "from sklearn.model_selection import train_test_split\n",
    "from sklearn.metrics import accuracy_score, precision_score, recall_score, f1_score, confusion_matrix\n",
    "\n",
    "import pandas as pd"
   ]
  },
  {
   "cell_type": "markdown",
   "id": "d1e855bc",
   "metadata": {},
   "source": [
    "# Data Preprocessing\n",
    "- Load the Breast Cancer dataset using load_breast_cancer from sklearn.\n",
    "- Partition the data into an 80% training set and a 20% test set.\n",
    "- Scale the features using StandardScaler for KNN."
   ]
  },
  {
   "cell_type": "code",
   "execution_count": 2,
   "id": "3a626d3b",
   "metadata": {},
   "outputs": [],
   "source": [
    "# Load Breast Cancer dataset from sklearn\n",
    "X, y = load_breast_cancer(return_X_y=True)\n",
    "\n",
    "# Partition data into 80% training and 20% test set\n",
    "X_train, X_test, y_train, y_test = train_test_split(X, y, test_size=0.20, train_size=0.80)\n",
    "\n",
    "# Scale features for KNN \n",
    "scaler = preprocessing.StandardScaler()\n",
    "X_train_scaled = scaler.fit_transform(X_train)\n",
    "X_test_scaled = scaler.transform(X_test)"
   ]
  },
  {
   "cell_type": "markdown",
   "id": "154d7839",
   "metadata": {},
   "source": [
    "# Model Training\n",
    "1. K-Nearest Neighbors (KNN): Start with n_neighbors=5.\n",
    "2. Decision Tree: Use the default settings initially, then experiment\n",
    "with max_depth.\n",
    "3. Random Forest: Start with 100 trees (n_estimators=100) and\n",
    "explore the effect of different max_depth or min_samples_split."
   ]
  },
  {
   "cell_type": "code",
   "execution_count": 3,
   "id": "fd2447d1",
   "metadata": {},
   "outputs": [],
   "source": [
    "# KNN Model\n",
    "knn_model = KNeighborsClassifier(n_neighbors=5, weights='uniform')\n",
    "\n",
    "# Train the KNN model \n",
    "knn_model = knn_model.fit(X_train_scaled, y_train) \n",
    "\n",
    "# Predict on scaled test set\n",
    "y_predict_knn = knn_model.predict(X_test_scaled) \n",
    "# KNNs are sensitive to scaling of features, so need to scale the test features"
   ]
  },
  {
   "cell_type": "code",
   "execution_count": 4,
   "id": "f920a3a1",
   "metadata": {},
   "outputs": [],
   "source": [
    "# Decision Tree model \n",
    "decision_tree_model = DecisionTreeClassifier(random_state=42)\n",
    "\n",
    "# Train the Decision Tree model\n",
    "decision_tree_model = decision_tree_model.fit(X_train, y_train)\n",
    "\n",
    "# Predict on test set\n",
    "y_predict_dec_tree = decision_tree_model.predict(X_test)"
   ]
  },
  {
   "cell_type": "code",
   "execution_count": 5,
   "id": "6f90ff37",
   "metadata": {
    "scrolled": true
   },
   "outputs": [],
   "source": [
    "# Random Forest model\n",
    "random_forest_model = RandomForestClassifier(n_estimators=100, max_depth=2, random_state=42)\n",
    "\n",
    "# Train the Random Forest Model\n",
    "random_forest_model = random_forest_model.fit(X_train, y_train)\n",
    "\n",
    "# Predict on test set\n",
    "y_predict_rand_forest = random_forest_model.predict(X_test)"
   ]
  },
  {
   "cell_type": "markdown",
   "id": "a9ff3ac8",
   "metadata": {},
   "source": [
    "# Evaluating and Comparing Results"
   ]
  },
  {
   "cell_type": "code",
   "execution_count": 6,
   "id": "84afdc3b",
   "metadata": {
    "scrolled": true
   },
   "outputs": [
    {
     "name": "stdout",
     "output_type": "stream",
     "text": [
      "        Model  Accuracy  Precision   Recall  F1-Score\n",
      "          KNN  0.956140   0.934211 1.000000  0.965986\n",
      "Decision Tree  0.868421   0.900000 0.887324  0.893617\n",
      "Random Forest  0.947368   0.933333 0.985915  0.958904\n"
     ]
    }
   ],
   "source": [
    "# Comparing Results\n",
    "results = [\n",
    "    {\n",
    "         \"Model\": \"KNN\",\n",
    "         \"Accuracy\": accuracy_score(y_test, y_predict_knn),\n",
    "         \"Precision\": precision_score(y_test, y_predict_knn),\n",
    "         \"Recall\": recall_score(y_test, y_predict_knn),\n",
    "         \"F1-Score\": f1_score(y_test, y_predict_knn)},\n",
    "    {\n",
    "         \"Model\": \"Decision Tree\",\n",
    "         \"Accuracy\": accuracy_score(y_test, y_predict_dec_tree),\n",
    "         \"Precision\": precision_score(y_test, y_predict_dec_tree),\n",
    "         \"Recall\": recall_score(y_test, y_predict_dec_tree),\n",
    "         \"F1-Score\": f1_score(y_test, y_predict_dec_tree)},\n",
    "    {\n",
    "         \"Model\": \"Random Forest\",\n",
    "         \"Accuracy\": accuracy_score(y_test, y_predict_rand_forest),\n",
    "         \"Precision\": precision_score(y_test, y_predict_rand_forest),\n",
    "         \"Recall\": recall_score(y_test, y_predict_rand_forest),\n",
    "         \"F1-Score\": f1_score(y_test, y_predict_rand_forest)\n",
    "    }       \n",
    "]\n",
    "\n",
    "table = pd.DataFrame(results)\n",
    "\n",
    "print(table.to_string(index=False))"
   ]
  },
  {
   "cell_type": "markdown",
   "id": "e7e9ff88",
   "metadata": {},
   "source": [
    "# Confusion Matrices"
   ]
  },
  {
   "cell_type": "code",
   "execution_count": 7,
   "id": "3609a2c3",
   "metadata": {
    "scrolled": true
   },
   "outputs": [
    {
     "name": "stdout",
     "output_type": "stream",
     "text": [
      "KNN Confusion Matrix:\n",
      " [[38  5]\n",
      " [ 0 71]]\n",
      "\n",
      "Decision Tree Confusion Matrix:\n",
      " [[36  7]\n",
      " [ 8 63]]\n",
      "\n",
      "Random Forest Confusion Matrix:\n",
      " [[38  5]\n",
      " [ 1 70]]\n"
     ]
    }
   ],
   "source": [
    "# KNN Confusion Matrix\n",
    "print(\"KNN Confusion Matrix:\\n\", confusion_matrix(y_test, y_predict_knn))\n",
    "\n",
    "# Decision Tree Confusion Matrix \n",
    "print(\"\\nDecision Tree Confusion Matrix:\\n\", confusion_matrix(y_test, y_predict_dec_tree))\n",
    "\n",
    "# Random Forest Confusion Matrix \n",
    "print(\"\\nRandom Forest Confusion Matrix:\\n\", confusion_matrix(y_test, y_predict_rand_forest))"
   ]
  },
  {
   "cell_type": "markdown",
   "id": "2483a8d6",
   "metadata": {},
   "source": [
    "# Ablation Study\n",
    "- Modify key hyperparameters (e.g., n_neighbors for KNN, max_depth for Decision Trees and Random Forest) and observe the impact on performance."
   ]
  },
  {
   "cell_type": "code",
   "execution_count": 8,
   "id": "487fa06b",
   "metadata": {},
   "outputs": [
    {
     "name": "stdout",
     "output_type": "stream",
     "text": [
      "KNN modified hyperparameters:\n",
      "n_neighbors  Accuracy  Precision  Recall  F1-Score\n",
      "          5  0.956140   0.934211     1.0  0.965986\n",
      "          7  0.964912   0.946667     1.0  0.972603\n",
      "         10  0.964912   0.946667     1.0  0.972603\n",
      "         13  0.956140   0.934211     1.0  0.965986\n",
      "         15  0.956140   0.934211     1.0  0.965986\n"
     ]
    }
   ],
   "source": [
    "ablation_results_knn = []\n",
    "\n",
    "for k in [5, 7, 10, 13, 15]:\n",
    "    knn_model_ablation = KNeighborsClassifier(n_neighbors=k, weights='uniform')\n",
    "    knn_model_ablation = knn_model_ablation.fit(X_train_scaled, y_train) \n",
    "    y_predict_knn_ablation = knn_model_ablation.predict(X_test_scaled)\n",
    "\n",
    "    ablation_results_knn.append({\n",
    "        \"n_neighbors\": f\"{k}\",\n",
    "        \"Accuracy\": accuracy_score(y_test, y_predict_knn_ablation),\n",
    "        \"Precision\": precision_score(y_test, y_predict_knn_ablation),\n",
    "        \"Recall\": recall_score(y_test, y_predict_knn_ablation),\n",
    "        \"F1-Score\": f1_score(y_test, y_predict_knn_ablation)\n",
    "    })\n",
    "    \n",
    "ablation_knn_df = pd.DataFrame(ablation_results_knn)\n",
    "print(\"KNN modified hyperparameters:\")\n",
    "print(ablation_knn_df.to_string(index=False))"
   ]
  },
  {
   "cell_type": "code",
   "execution_count": 9,
   "id": "bedc615c",
   "metadata": {
    "scrolled": true
   },
   "outputs": [
    {
     "name": "stdout",
     "output_type": "stream",
     "text": [
      "Decision Tree modified hyperparameters:\n",
      "max_depth  Accuracy  Precision   Recall  F1-Score\n",
      "     None  0.868421   0.900000 0.887324  0.893617\n",
      "        5  0.885965   0.902778 0.915493  0.909091\n",
      "        7  0.850877   0.885714 0.873239  0.879433\n",
      "       10  0.868421   0.900000 0.887324  0.893617\n",
      "       15  0.868421   0.900000 0.887324  0.893617\n"
     ]
    }
   ],
   "source": [
    "ablation_results_dec_tree = []\n",
    "\n",
    "for depth in [None, 5, 7, 10, 15]:\n",
    "    decision_tree_model_ablation = DecisionTreeClassifier(max_depth=depth, random_state=42)\n",
    "    decision_tree_model_ablation = decision_tree_model_ablation.fit(X_train, y_train)\n",
    "    y_predict_dec_tree_ablation = decision_tree_model_ablation.predict(X_test)\n",
    "\n",
    "    ablation_results_dec_tree.append({\n",
    "        \"max_depth\": f\"{depth}\",\n",
    "        \"Accuracy\": accuracy_score(y_test, y_predict_dec_tree_ablation),\n",
    "        \"Precision\": precision_score(y_test, y_predict_dec_tree_ablation),\n",
    "        \"Recall\": recall_score(y_test, y_predict_dec_tree_ablation),\n",
    "        \"F1-Score\": f1_score(y_test, y_predict_dec_tree_ablation)\n",
    "    })\n",
    "    \n",
    "ablation_dec_tree_df = pd.DataFrame(ablation_results_dec_tree)\n",
    "print(\"Decision Tree modified hyperparameters:\")\n",
    "print(ablation_dec_tree_df.to_string(index=False))"
   ]
  },
  {
   "cell_type": "code",
   "execution_count": 10,
   "id": "7d47bba7",
   "metadata": {
    "scrolled": true
   },
   "outputs": [
    {
     "name": "stdout",
     "output_type": "stream",
     "text": [
      "Random Forest modified hyperparameters - max_depth:\n",
      "max_depth  Accuracy  Precision   Recall  F1-Score\n",
      "     None  0.947368   0.933333 0.985915  0.958904\n",
      "        2  0.947368   0.933333 0.985915  0.958904\n",
      "        5  0.947368   0.933333 0.985915  0.958904\n",
      "       10  0.947368   0.933333 0.985915  0.958904\n",
      "       15  0.947368   0.933333 0.985915  0.958904\n",
      "\n",
      "Random Forest modified hyperparameters - min_samples_split\n",
      "min_samples_split  Accuracy  Precision   Recall  F1-Score\n",
      "                2  0.947368   0.933333 0.985915  0.958904\n",
      "                5  0.956140   0.945946 0.985915  0.965517\n",
      "               10  0.947368   0.933333 0.985915  0.958904\n",
      "               15  0.929825   0.920000 0.971831  0.945205\n",
      "               20  0.938596   0.932432 0.971831  0.951724\n"
     ]
    }
   ],
   "source": [
    "ablation_results_rand_forest = []\n",
    "\n",
    "for depth in [None, 2, 5, 10, 15]:\n",
    "    random_forest_model_ablation = RandomForestClassifier(n_estimators=100, max_depth=depth, random_state=42)\n",
    "    random_forest_model_ablation = random_forest_model_ablation.fit(X_train, y_train)\n",
    "    y_predict_rand_forest_ablation = random_forest_model_ablation.predict(X_test)\n",
    "\n",
    "    ablation_results_rand_forest.append({\n",
    "        \"max_depth\": f\"{depth}\",\n",
    "        \"Accuracy\": accuracy_score(y_test, y_predict_rand_forest_ablation),\n",
    "        \"Precision\": precision_score(y_test, y_predict_rand_forest_ablation),\n",
    "        \"Recall\": recall_score(y_test, y_predict_rand_forest_ablation),\n",
    "        \"F1-Score\": f1_score(y_test, y_predict_rand_forest_ablation)\n",
    "    })\n",
    "    \n",
    "ablation_rand_forest_df = pd.DataFrame(ablation_results_rand_forest)\n",
    "print(\"Random Forest modified hyperparameters - max_depth:\")\n",
    "print(ablation_rand_forest_df.to_string(index=False))\n",
    "\n",
    "ablation_results_rand_forest_sample = []\n",
    "\n",
    "for sample in [2, 5, 10, 15, 20]:\n",
    "    random_forest_model_ablation = RandomForestClassifier(n_estimators=100, min_samples_split=sample, random_state=42)\n",
    "    random_forest_model_ablation = random_forest_model_ablation.fit(X_train, y_train)\n",
    "    y_predict_rand_forest_ablation = random_forest_model_ablation.predict(X_test)\n",
    "\n",
    "    ablation_results_rand_forest_sample.append({\n",
    "        \"min_samples_split\": f\"{sample}\",\n",
    "        \"Accuracy\": accuracy_score(y_test, y_predict_rand_forest_ablation),\n",
    "        \"Precision\": precision_score(y_test, y_predict_rand_forest_ablation),\n",
    "        \"Recall\": recall_score(y_test, y_predict_rand_forest_ablation),\n",
    "        \"F1-Score\": f1_score(y_test, y_predict_rand_forest_ablation)\n",
    "    })\n",
    "    \n",
    "ablation_rand_forest_df = pd.DataFrame(ablation_results_rand_forest_sample)\n",
    "print(\"\\nRandom Forest modified hyperparameters - min_samples_split\")\n",
    "print(ablation_rand_forest_df.to_string(index=False))"
   ]
  }
 ],
 "metadata": {
  "kernelspec": {
   "display_name": "Python 3 (ipykernel)",
   "language": "python",
   "name": "python3"
  },
  "language_info": {
   "codemirror_mode": {
    "name": "ipython",
    "version": 3
   },
   "file_extension": ".py",
   "mimetype": "text/x-python",
   "name": "python",
   "nbconvert_exporter": "python",
   "pygments_lexer": "ipython3",
   "version": "3.11.5"
  }
 },
 "nbformat": 4,
 "nbformat_minor": 5
}
