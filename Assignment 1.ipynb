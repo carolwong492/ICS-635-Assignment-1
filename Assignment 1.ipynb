{
 "cells": [
  {
   "cell_type": "markdown",
   "id": "d1e855bc",
   "metadata": {},
   "source": [
    "# Data Preprocessing\n",
    "- Load the Breast Cancer dataset using load_breast_cancer from sklearn.\n",
    "- Partition the data into an 80% training set and a 20% test set.\n",
    "- Scale the features using StandardScaler for KNN."
   ]
  },
  {
   "cell_type": "code",
   "execution_count": 1,
   "id": "990da4b9",
   "metadata": {},
   "outputs": [],
   "source": [
    "from sklearn import preprocessing, tree, neighbors\n",
    "from sklearn.ensemble import RandomForestClassifier\n",
    "from sklearn.datasets import load_breast_cancer \n",
    "from sklearn.model_selection import train_test_split"
   ]
  },
  {
   "cell_type": "code",
   "execution_count": 2,
   "id": "3a626d3b",
   "metadata": {},
   "outputs": [],
   "source": [
    "X, y = load_breast_cancer(return_X_y=True)\n",
    "\n",
    "X_train, X_test, y_train, y_test = train_test_split(X, y, test_size=0.20, train_size=0.80)\n",
    "\n",
    "scaler = preprocessing.StandardScaler().fit(X_train)\n",
    "\n",
    "X_train_scaled = scaler.transform(X_train)\n",
    "X_test_scaled = scaler.transform(X_test)"
   ]
  },
  {
   "cell_type": "markdown",
   "id": "154d7839",
   "metadata": {},
   "source": [
    "# Model Training\n",
    "1. K-Nearest Neighbors (KNN): Start with n_neighbors=5.\n",
    "2. Decision Tree: Use the default settings initially, then experiment\n",
    "with max_depth.\n",
    "3. Random Forest: Start with 100 trees (n_estimators=100) and\n",
    "explore the effect of different max_depth or min_samples_split."
   ]
  },
  {
   "cell_type": "code",
   "execution_count": 4,
   "id": "fd2447d1",
   "metadata": {},
   "outputs": [],
   "source": [
    "# KNN Model\n",
    "knn_model = neighbors.KNeighborsClassifier(n_neighbors=5, weights='uniform')\n",
    "knn_model = knn_model.fit(X_train_scaled, y_train) # Train the KNN model \n",
    "\n",
    "y_predict_knn = knn.predict(X_test_scaled) # \n",
    "\n",
    "\n"
   ]
  },
  {
   "cell_type": "code",
   "execution_count": null,
   "id": "f920a3a1",
   "metadata": {},
   "outputs": [],
   "source": [
    "decision_tree_model = tree.DecisionTreeClassifier()\n",
    "decision_tree_model = decision_tree_model.fit(X, y)"
   ]
  },
  {
   "cell_type": "code",
   "execution_count": null,
   "id": "6f90ff37",
   "metadata": {},
   "outputs": [],
   "source": [
    "\n",
    "random_forest_model = RandomForestClassifier(n_estimators=100, max_depth=2)\n",
    "random_forest_model = random_forest_model.fit(X, y)"
   ]
  },
  {
   "cell_type": "markdown",
   "id": "9555d8bd",
   "metadata": {},
   "source": [
    "# Evaluation\n",
    "- Use the following metrics to evaluate performance:\n",
    "    - Accuracy\n",
    "    - Precision\n",
    "    - Recall\n",
    "    - F1-score\n",
    "- Include a confusion matrix for each model.\n",
    "- Compare the results across the models in a tabular or graphical format."
   ]
  },
  {
   "cell_type": "code",
   "execution_count": null,
   "id": "b0b6ca2c",
   "metadata": {},
   "outputs": [],
   "source": []
  },
  {
   "cell_type": "markdown",
   "id": "2483a8d6",
   "metadata": {},
   "source": [
    "# Ablation Study\n",
    "- Modify key hyperparameters (e.g., n_neighbors for KNN, max_depth for Decision Trees and Random Forest) and observe the impact on performance."
   ]
  },
  {
   "cell_type": "code",
   "execution_count": null,
   "id": "487fa06b",
   "metadata": {},
   "outputs": [],
   "source": []
  }
 ],
 "metadata": {
  "kernelspec": {
   "display_name": "Python 3 (ipykernel)",
   "language": "python",
   "name": "python3"
  },
  "language_info": {
   "codemirror_mode": {
    "name": "ipython",
    "version": 3
   },
   "file_extension": ".py",
   "mimetype": "text/x-python",
   "name": "python",
   "nbconvert_exporter": "python",
   "pygments_lexer": "ipython3",
   "version": "3.11.5"
  }
 },
 "nbformat": 4,
 "nbformat_minor": 5
}
